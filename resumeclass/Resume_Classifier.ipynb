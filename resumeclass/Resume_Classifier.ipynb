{
  "cells": [
    {
      "cell_type": "code",
      "execution_count": 194,
      "metadata": {
        "id": "CbwVi7Yoahk2"
      },
      "outputs": [],
      "source": [
        "#Import libraries\n",
        "import tensorflow as tf\n",
        "from keras.models import Sequential\n",
        "from keras.layers import Convolution2D\n",
        "from keras.layers import MaxPooling2D\n",
        "from keras.layers import Flatten\n",
        "from keras.layers import Dense\n",
        "from imutils import paths\n",
        "from sklearn.model_selection import train_test_split"
      ]
    },
    {
      "cell_type": "code",
      "execution_count": 195,
      "metadata": {
        "colab": {
          "base_uri": "https://localhost:8080/",
          "height": 36
        },
        "id": "_6YPO5MRam1g",
        "outputId": "c66a2d16-7ef1-4fa2-8a04-afb3b1d1e174"
      },
      "outputs": [
        {
          "output_type": "execute_result",
          "data": {
            "text/plain": [
              "'2.15.0'"
            ],
            "application/vnd.google.colaboratory.intrinsic+json": {
              "type": "string"
            }
          },
          "metadata": {},
          "execution_count": 195
        }
      ],
      "source": [
        "#version check\n",
        "tf.__version__"
      ]
    },
    {
      "cell_type": "code",
      "execution_count": 196,
      "metadata": {
        "id": "FYugLBOUaqK9"
      },
      "outputs": [],
      "source": [
        "#Neural layer creation\n",
        "layers = [\n",
        "    tf.keras.layers.Conv2D(filters=16, kernel_size=(3,3), padding=\"same\", activation=tf.nn.relu, input_shape=(64,64,3)),\n",
        "    tf.keras.layers.MaxPool2D(pool_size=(2,2), strides=(2,2)),\n",
        "    tf.keras.layers.Conv2D(filters=32, kernel_size=(3,3), padding=\"same\", activation=tf.nn.relu),\n",
        "    tf.keras.layers.MaxPool2D(pool_size=(2,2), strides=(2,2)),\n",
        "    tf.keras.layers.Conv2D(filters=64, kernel_size=(3,3), padding=\"same\", activation=tf.nn.relu),\n",
        "    tf.keras.layers.MaxPool2D(pool_size=(2,2), strides=(2,2)),\n",
        "    tf.keras.layers.Conv2D(filters=128, kernel_size=(3,3), padding=\"same\", activation=tf.nn.relu),\n",
        "    tf.keras.layers.MaxPool2D(pool_size=(2,2), strides=(2,2)),\n",
        "    tf.keras.layers.Conv2D(filters=256, kernel_size=(3,3), padding=\"same\", activation=tf.nn.relu),\n",
        "    tf.keras.layers.MaxPool2D(pool_size=(2,2), strides=(2,2)),\n",
        "    tf.keras.layers.Flatten(),\n",
        "    tf.keras.layers.Dense(units=512, activation=tf.nn.relu),\n",
        "    tf.keras.layers.Dense(units=256, activation=tf.nn.relu),\n",
        "    tf.keras.layers.Dense(units=1, activation=tf.nn.sigmoid)\n",
        "]"
      ]
    },
    {
      "cell_type": "code",
      "execution_count": 197,
      "metadata": {
        "id": "ws0vyYp5as0s"
      },
      "outputs": [],
      "source": [
        "# choosing model\n",
        "classifier = tf.keras.Sequential(layers)\n"
      ]
    },
    {
      "cell_type": "code",
      "execution_count": 198,
      "metadata": {
        "id": "i47cR2y6avjV"
      },
      "outputs": [],
      "source": [
        "#Compile\n",
        "classifier.compile(optimizer = 'adam', loss = 'binary_crossentropy', metrics = ['accuracy'])"
      ]
    },
    {
      "cell_type": "code",
      "execution_count": 199,
      "metadata": {
        "id": "QiujOwpra2MV"
      },
      "outputs": [],
      "source": [
        "#data importing and transforming and scaling\n",
        "from keras.preprocessing.image import ImageDataGenerator\n",
        "train_datagen = ImageDataGenerator(\n",
        "        rescale=1./255,\n",
        "        featurewise_center=True,\n",
        "        featurewise_std_normalization=True,\n",
        "        horizontal_flip=True)"
      ]
    },
    {
      "cell_type": "code",
      "execution_count": 200,
      "metadata": {
        "id": "gFb9iBcTa5Ee"
      },
      "outputs": [],
      "source": [
        "#Scaling test data\n",
        "test_datagen = ImageDataGenerator(rescale=1./255)"
      ]
    },
    {
      "cell_type": "markdown",
      "metadata": {
        "id": "b8RQ4fphbbLn"
      },
      "source": [
        "**Training Data**"
      ]
    },
    {
      "cell_type": "code",
      "execution_count": 201,
      "metadata": {
        "colab": {
          "base_uri": "https://localhost:8080/"
        },
        "id": "23XnaPVgbn0S",
        "outputId": "68df3c75-cd7c-4992-bec4-ccb880fd28e5"
      },
      "outputs": [
        {
          "output_type": "stream",
          "name": "stdout",
          "text": [
            "Found 56 images belonging to 2 classes.\n"
          ]
        }
      ],
      "source": [
        "train_set = train_datagen.flow_from_directory('/content/drive/MyDrive/resumeclass/R-Classifier',\n",
        "                                               target_size=(64, 64),\n",
        "                                               batch_size=6,\n",
        "                                               class_mode='binary')"
      ]
    },
    {
      "cell_type": "code",
      "execution_count": 202,
      "metadata": {
        "colab": {
          "base_uri": "https://localhost:8080/"
        },
        "id": "LBWeO6mRb0TU",
        "outputId": "3f03a5fc-39d7-4b3b-85f6-ce327aaf8f83"
      },
      "outputs": [
        {
          "output_type": "stream",
          "name": "stdout",
          "text": [
            "{'non-resume': 0, 'resume': 1}\n"
          ]
        }
      ],
      "source": [
        "#labelling (resume & non-resume)\n",
        "label_map = (train_set.class_indices)\n",
        "print(label_map)"
      ]
    },
    {
      "cell_type": "markdown",
      "metadata": {
        "id": "Ud8xHFVHUXi7"
      },
      "source": [
        "**Testing** **Dataset**"
      ]
    },
    {
      "cell_type": "code",
      "execution_count": 203,
      "metadata": {
        "colab": {
          "base_uri": "https://localhost:8080/"
        },
        "id": "aekjdj4ab30E",
        "outputId": "958be6d9-b274-4d4f-9617-2e5ab19d89b1"
      },
      "outputs": [
        {
          "output_type": "stream",
          "name": "stdout",
          "text": [
            "Found 17 images belonging to 2 classes.\n"
          ]
        }
      ],
      "source": [
        "## Importng test data\n",
        "test_set = test_datagen.flow_from_directory('/content/drive/MyDrive/resumeclass/Testfolder',\n",
        "                                            target_size=(64, 64),\n",
        "                                            batch_size=6,\n",
        "                                            class_mode='binary')"
      ]
    },
    {
      "cell_type": "code",
      "execution_count": 204,
      "metadata": {
        "colab": {
          "base_uri": "https://localhost:8080/"
        },
        "id": "VSq-X7uscBjQ",
        "outputId": "9edd978c-eff0-4ab3-8c62-42927b1c7f8c"
      },
      "outputs": [
        {
          "output_type": "stream",
          "name": "stderr",
          "text": [
            "<ipython-input-204-bc22715429d9>:2: UserWarning: `Model.fit_generator` is deprecated and will be removed in a future version. Please use `Model.fit`, which supports generators.\n",
            "  classifier.fit_generator(\n",
            "/usr/local/lib/python3.10/dist-packages/keras/src/preprocessing/image.py:1862: UserWarning: This ImageDataGenerator specifies `featurewise_center`, but it hasn't been fit on any training data. Fit it first by calling `.fit(numpy_data)`.\n",
            "  warnings.warn(\n",
            "/usr/local/lib/python3.10/dist-packages/keras/src/preprocessing/image.py:1872: UserWarning: This ImageDataGenerator specifies `featurewise_std_normalization`, but it hasn't been fit on any training data. Fit it first by calling `.fit(numpy_data)`.\n",
            "  warnings.warn(\n"
          ]
        },
        {
          "output_type": "stream",
          "name": "stdout",
          "text": [
            "Epoch 1/35\n",
            "8/8 [==============================] - ETA: 0s - loss: 0.6912 - accuracy: 0.5833"
          ]
        },
        {
          "output_type": "stream",
          "name": "stderr",
          "text": [
            "/usr/local/lib/python3.10/dist-packages/PIL/Image.py:996: UserWarning: Palette images with Transparency expressed in bytes should be converted to RGBA images\n",
            "  warnings.warn(\n",
            "WARNING:tensorflow:5 out of the last 13 calls to <function Model.make_test_function.<locals>.test_function at 0x799315312b00> triggered tf.function retracing. Tracing is expensive and the excessive number of tracings could be due to (1) creating @tf.function repeatedly in a loop, (2) passing tensors with different shapes, (3) passing Python objects instead of tensors. For (1), please define your @tf.function outside of the loop. For (2), @tf.function has reduce_retracing=True option that can avoid unnecessary retracing. For (3), please refer to https://www.tensorflow.org/guide/function#controlling_retracing and https://www.tensorflow.org/api_docs/python/tf/function for  more details.\n",
            "WARNING:tensorflow:Your input ran out of data; interrupting training. Make sure that your dataset or generator can generate at least `steps_per_epoch * epochs` batches (in this case, 7 batches). You may need to use the repeat() function when building your dataset.\n"
          ]
        },
        {
          "output_type": "stream",
          "name": "stdout",
          "text": [
            "\b\b\b\b\b\b\b\b\b\b\b\b\b\b\b\b\b\b\b\b\b\b\b\b\b\b\b\b\b\b\b\b\b\b\b\b\b\b\b\b\b\b\b\b\b\b\b\b\b\b\b\b\b\b\b\b\b\b\b\b\b\b\b\b\b\b\b\b\b\b\b\b\b\b\b\b\b\b\b\b\r8/8 [==============================] - 4s 210ms/step - loss: 0.6912 - accuracy: 0.5833 - val_loss: 0.7422 - val_accuracy: 0.4118\n",
            "Epoch 2/35\n",
            "8/8 [==============================] - 1s 138ms/step - loss: 0.6928 - accuracy: 0.5833\n",
            "Epoch 3/35\n",
            "8/8 [==============================] - 1s 128ms/step - loss: 0.6944 - accuracy: 0.5417\n",
            "Epoch 4/35\n",
            "8/8 [==============================] - 1s 129ms/step - loss: 0.6866 - accuracy: 0.5455\n",
            "Epoch 5/35\n",
            "8/8 [==============================] - 1s 105ms/step - loss: 0.6802 - accuracy: 0.5417\n",
            "Epoch 6/35\n",
            "8/8 [==============================] - 1s 150ms/step - loss: 0.6823 - accuracy: 0.5000\n",
            "Epoch 7/35\n",
            "8/8 [==============================] - 2s 213ms/step - loss: 0.6454 - accuracy: 0.5682\n",
            "Epoch 8/35\n",
            "8/8 [==============================] - 1s 170ms/step - loss: 0.6100 - accuracy: 0.7273\n",
            "Epoch 9/35\n",
            "8/8 [==============================] - 1s 113ms/step - loss: 0.5679 - accuracy: 0.7045\n",
            "Epoch 10/35\n",
            "8/8 [==============================] - 1s 108ms/step - loss: 0.6225 - accuracy: 0.7045\n",
            "Epoch 11/35\n",
            "8/8 [==============================] - 1s 134ms/step - loss: 0.6192 - accuracy: 0.7500\n",
            "Epoch 12/35\n",
            "8/8 [==============================] - 1s 124ms/step - loss: 0.6229 - accuracy: 0.7045\n",
            "Epoch 13/35\n",
            "8/8 [==============================] - 1s 130ms/step - loss: 0.5803 - accuracy: 0.6591\n",
            "Epoch 14/35\n",
            "8/8 [==============================] - 1s 93ms/step - loss: 0.4913 - accuracy: 0.7500\n",
            "Epoch 15/35\n",
            "8/8 [==============================] - 1s 106ms/step - loss: 0.5224 - accuracy: 0.7273\n",
            "Epoch 16/35\n",
            "8/8 [==============================] - 1s 145ms/step - loss: 0.3601 - accuracy: 0.8636\n",
            "Epoch 17/35\n",
            "8/8 [==============================] - 2s 149ms/step - loss: 0.4378 - accuracy: 0.7727\n",
            "Epoch 18/35\n",
            "8/8 [==============================] - 2s 204ms/step - loss: 0.4184 - accuracy: 0.8125\n",
            "Epoch 19/35\n",
            "8/8 [==============================] - 1s 108ms/step - loss: 0.4872 - accuracy: 0.8182\n",
            "Epoch 20/35\n",
            "8/8 [==============================] - 1s 103ms/step - loss: 0.2983 - accuracy: 0.8636\n",
            "Epoch 21/35\n",
            "8/8 [==============================] - 1s 103ms/step - loss: 0.3238 - accuracy: 0.8864\n",
            "Epoch 22/35\n",
            "8/8 [==============================] - 1s 111ms/step - loss: 0.1938 - accuracy: 0.9091\n",
            "Epoch 23/35\n",
            "8/8 [==============================] - 1s 99ms/step - loss: 0.1480 - accuracy: 0.9545\n",
            "Epoch 24/35\n",
            "8/8 [==============================] - 1s 112ms/step - loss: 0.1629 - accuracy: 0.9545\n",
            "Epoch 25/35\n",
            "8/8 [==============================] - 1s 111ms/step - loss: 0.0896 - accuracy: 0.9773\n",
            "Epoch 26/35\n",
            "8/8 [==============================] - 1s 132ms/step - loss: 0.3662 - accuracy: 0.8636\n",
            "Epoch 27/35\n",
            "8/8 [==============================] - 1s 147ms/step - loss: 0.4257 - accuracy: 0.8409\n",
            "Epoch 28/35\n",
            "8/8 [==============================] - 2s 170ms/step - loss: 0.4610 - accuracy: 0.7500\n",
            "Epoch 29/35\n",
            "8/8 [==============================] - 1s 109ms/step - loss: 0.2760 - accuracy: 0.9318\n",
            "Epoch 30/35\n",
            "8/8 [==============================] - 1s 99ms/step - loss: 0.1708 - accuracy: 0.9545\n",
            "Epoch 31/35\n",
            "8/8 [==============================] - 1s 113ms/step - loss: 0.1983 - accuracy: 0.9167\n",
            "Epoch 32/35\n",
            "8/8 [==============================] - 1s 119ms/step - loss: 0.0572 - accuracy: 1.0000\n",
            "Epoch 33/35\n",
            "8/8 [==============================] - 1s 114ms/step - loss: 0.0962 - accuracy: 0.9773\n",
            "Epoch 34/35\n",
            "8/8 [==============================] - 1s 122ms/step - loss: 0.0348 - accuracy: 1.0000\n",
            "Epoch 35/35\n",
            "8/8 [==============================] - 1s 100ms/step - loss: 0.0143 - accuracy: 1.0000\n"
          ]
        },
        {
          "output_type": "execute_result",
          "data": {
            "text/plain": [
              "<keras.src.callbacks.History at 0x7993151f0070>"
            ]
          },
          "metadata": {},
          "execution_count": 204
        }
      ],
      "source": [
        "#fitting model to images\n",
        "classifier.fit_generator(\n",
        "        train_set,\n",
        "        steps_per_epoch=8,\n",
        "        epochs=35,\n",
        "        validation_data=test_set,\n",
        "        validation_steps=7)"
      ]
    },
    {
      "cell_type": "markdown",
      "metadata": {
        "id": "9KYigXO4cIfL"
      },
      "source": [
        "**Evaluation and Testing**"
      ]
    },
    {
      "cell_type": "code",
      "execution_count": 205,
      "metadata": {
        "id": "hOFWEh89cDNc"
      },
      "outputs": [],
      "source": [
        "# prediction of single new data\n",
        "import numpy as np\n",
        "from keras.preprocessing import image\n",
        "test_image= image.load_img('/content/drive/MyDrive/resumeclass/Testfolder/resume/testresume1.jpg'\n",
        "                           ,target_size =(64,64))\n"
      ]
    },
    {
      "cell_type": "code",
      "execution_count": 206,
      "metadata": {
        "id": "jd_BGjFJcP6V"
      },
      "outputs": [],
      "source": [
        "# Convert image to array\n",
        "test_image = image.img_to_array(test_image)"
      ]
    },
    {
      "cell_type": "code",
      "execution_count": 207,
      "metadata": {
        "colab": {
          "base_uri": "https://localhost:8080/"
        },
        "id": "VmiV1s1IcS9S",
        "outputId": "595de427-1257-440f-9230-f719b9ce21cf"
      },
      "outputs": [
        {
          "output_type": "stream",
          "name": "stdout",
          "text": [
            "1/1 [==============================] - 0s 119ms/step\n"
          ]
        }
      ],
      "source": [
        "# For single prediction change the dimension using axis. To remove problem of batch\n",
        "test_image = np.expand_dims(test_image,axis = 0)\n",
        "result = classifier.predict(test_image)"
      ]
    },
    {
      "cell_type": "code",
      "execution_count": 208,
      "metadata": {
        "id": "LCQY386BcU8h"
      },
      "outputs": [],
      "source": [
        "## Class of resume and non-resume\n",
        "train_set.class_indices\n",
        "if result[0][0] == 1:\n",
        "    prediction = 'resume'\n",
        "else:\n",
        "   prediction = 'noresume'\n"
      ]
    },
    {
      "cell_type": "code",
      "execution_count": 209,
      "metadata": {
        "colab": {
          "base_uri": "https://localhost:8080/",
          "height": 36
        },
        "id": "d5mIS28ScWwP",
        "outputId": "3fc45a27-aca6-47f7-b436-2828e126b6ef"
      },
      "outputs": [
        {
          "output_type": "execute_result",
          "data": {
            "text/plain": [
              "'resume'"
            ],
            "application/vnd.google.colaboratory.intrinsic+json": {
              "type": "string"
            }
          },
          "metadata": {},
          "execution_count": 209
        }
      ],
      "source": [
        "prediction\n"
      ]
    },
    {
      "cell_type": "markdown",
      "metadata": {
        "id": "hvQjQI2pcYOd"
      },
      "source": [
        "**Confusion Matrix**"
      ]
    },
    {
      "cell_type": "code",
      "execution_count": 210,
      "metadata": {
        "id": "evLSWb8Lcf9_"
      },
      "outputs": [],
      "source": [
        "import numpy as np\n",
        "from sklearn.metrics import confusion_matrix, classification_report\n",
        "import seaborn as sns\n",
        "import matplotlib.pyplot as plt"
      ]
    },
    {
      "cell_type": "code",
      "execution_count": 211,
      "metadata": {
        "colab": {
          "base_uri": "https://localhost:8080/"
        },
        "id": "KQjrmm8ge5Ku",
        "outputId": "35f57880-58ba-4101-af9a-fb831a863bd6"
      },
      "outputs": [
        {
          "output_type": "stream",
          "name": "stdout",
          "text": [
            "3/3 [==============================] - 0s 51ms/step\n"
          ]
        }
      ],
      "source": [
        "y_pred = classifier.predict(test_set)\n",
        "# Assuming binary classification\n",
        "y_pred_binary = (y_pred > 0.5).astype(int)"
      ]
    },
    {
      "cell_type": "code",
      "execution_count": 212,
      "metadata": {
        "id": "m_aeoCLJf9ir"
      },
      "outputs": [],
      "source": [
        "y_true = test_set.classes"
      ]
    },
    {
      "cell_type": "code",
      "execution_count": 213,
      "metadata": {
        "id": "4b1Rj_eYwK_F"
      },
      "outputs": [],
      "source": [
        "cm = confusion_matrix(y_true,y_pred_binary)"
      ]
    },
    {
      "cell_type": "code",
      "execution_count": 214,
      "metadata": {
        "colab": {
          "base_uri": "https://localhost:8080/",
          "height": 481
        },
        "id": "8OF7dfM8gN1I",
        "outputId": "f180585e-d3fd-4b64-87e1-b3e05c4dd8c0"
      },
      "outputs": [
        {
          "output_type": "display_data",
          "data": {
            "text/plain": [
              "<Figure size 640x480 with 2 Axes>"
            ],
            "image/png": "[encoded data removed]"
          },
          "metadata": {}
        }
      ],
      "source": [
        "sns.heatmap(cm,\n",
        "\t\t\tannot=True,\n",
        "\t\t\tfmt='g',\n",
        "\t\t\txticklabels=['Non-Resume','Resume'],\n",
        "\t\t\tyticklabels=['Non-Resume','Resume'])\n",
        "plt.ylabel('Prediction',fontsize=13)\n",
        "plt.xlabel('Actual',fontsize=13)\n",
        "plt.title('Confusion Matrix',fontsize=17)\n",
        "plt.show()\n"
      ]
    },
    {
      "cell_type": "code",
      "execution_count": 218,
      "metadata": {
        "id": "Ti8wh42A74hx"
      },
      "outputs": [],
      "source": [
        "classifier.save(\"/content/drive/MyDrive/resumeclass/resume_classifier1.h5\")"
      ]
    },
    {
      "cell_type": "code",
      "source": [
        "print(\"\\nClassification Report:\")\n",
        "print(classification_report(y_true, y_pred_binary))"
      ],
      "metadata": {
        "colab": {
          "base_uri": "https://localhost:8080/"
        },
        "id": "UIPlu_mBH-eP",
        "outputId": "20de1cfa-c216-4215-cc09-47e8e32c01ef"
      },
      "execution_count": 216,
      "outputs": [
        {
          "output_type": "stream",
          "name": "stdout",
          "text": [
            "\n",
            "Classification Report:\n",
            "              precision    recall  f1-score   support\n",
            "\n",
            "           0       0.80      0.80      0.80        10\n",
            "           1       0.71      0.71      0.71         7\n",
            "\n",
            "    accuracy                           0.76        17\n",
            "   macro avg       0.76      0.76      0.76        17\n",
            "weighted avg       0.76      0.76      0.76        17\n",
            "\n"
          ]
        }
      ]
    }
  ],
  "metadata": {
    "colab": {
      "provenance": []
    },
    "kernelspec": {
      "display_name": "Python 3",
      "name": "python3"
    },
    "language_info": {
      "name": "python"
    }
  },
  "nbformat": 4,
  "nbformat_minor": 0
}