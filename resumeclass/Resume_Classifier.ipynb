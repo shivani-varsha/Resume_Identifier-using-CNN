{
  "cells": [
    {
      "cell_type": "code",
      "execution_count": 1557,
      "metadata": {
        "id": "CbwVi7Yoahk2"
      },
      "outputs": [],
      "source": [
        "#Import libraries\n",
        "import tensorflow as tf\n",
        "from keras.models import Sequential\n",
        "from keras.layers import Convolution2D\n",
        "from keras.layers import MaxPooling2D\n",
        "from keras.layers import Flatten\n",
        "from keras.layers import Dense\n",
        "from imutils import paths"
      ]
    },
    {
      "cell_type": "code",
      "execution_count": 1558,
      "metadata": {
        "colab": {
          "base_uri": "https://localhost:8080/",
          "height": 36
        },
        "id": "_6YPO5MRam1g",
        "outputId": "31418a81-3b4c-43a7-a4fd-77be07306f70"
      },
      "outputs": [
        {
          "output_type": "execute_result",
          "data": {
            "text/plain": [
              "'2.15.0'"
            ],
            "application/vnd.google.colaboratory.intrinsic+json": {
              "type": "string"
            }
          },
          "metadata": {},
          "execution_count": 1558
        }
      ],
      "source": [
        "#version check\n",
        "tf.__version__"
      ]
    },
    {
      "cell_type": "code",
      "execution_count": 1559,
      "metadata": {
        "id": "FYugLBOUaqK9"
      },
      "outputs": [],
      "source": [
        "#Neural layer creation\n",
        "layers = [\n",
        "    tf.keras.layers.Conv2D(filters=16, kernel_size=(3,3), padding=\"same\", activation=tf.nn.relu, input_shape=(64,64,3)),\n",
        "    tf.keras.layers.MaxPool2D(pool_size=(2,2), strides=(2,2)),\n",
        "    tf.keras.layers.Conv2D(filters=32, kernel_size=(3,3), padding=\"same\", activation=tf.nn.relu),\n",
        "    tf.keras.layers.MaxPool2D(pool_size=(2,2), strides=(2,2)),\n",
        "    tf.keras.layers.Conv2D(filters=64, kernel_size=(3,3), padding=\"same\", activation=tf.nn.relu),\n",
        "    tf.keras.layers.MaxPool2D(pool_size=(2,2), strides=(2,2)),\n",
        "    tf.keras.layers.Conv2D(filters=128, kernel_size=(3,3), padding=\"same\", activation=tf.nn.relu),\n",
        "    tf.keras.layers.MaxPool2D(pool_size=(2,2), strides=(2,2)),\n",
        "    tf.keras.layers.Conv2D(filters=256, kernel_size=(3,3), padding=\"same\", activation=tf.nn.relu),\n",
        "    tf.keras.layers.MaxPool2D(pool_size=(2,2), strides=(2,2)),\n",
        "    tf.keras.layers.Flatten(),\n",
        "    tf.keras.layers.Dense(units=512, activation=tf.nn.relu),\n",
        "    tf.keras.layers.Dense(units=256, activation=tf.nn.relu),\n",
        "    tf.keras.layers.Dense(units=1, activation=tf.nn.sigmoid)\n",
        "]"
      ]
    },
    {
      "cell_type": "code",
      "execution_count": 1560,
      "metadata": {
        "id": "ws0vyYp5as0s"
      },
      "outputs": [],
      "source": [
        "# choosing model\n",
        "classifier = tf.keras.Sequential(layers)\n"
      ]
    },
    {
      "cell_type": "code",
      "execution_count": 1561,
      "metadata": {
        "id": "i47cR2y6avjV"
      },
      "outputs": [],
      "source": [
        "#Compile\n",
        "classifier.compile(optimizer = 'adam', loss = 'binary_crossentropy', metrics = ['accuracy'])"
      ]
    },
    {
      "cell_type": "code",
      "execution_count": 1562,
      "metadata": {
        "id": "QiujOwpra2MV"
      },
      "outputs": [],
      "source": [
        "#data importing and transforming and scaling\n",
        "from keras.preprocessing.image import ImageDataGenerator\n",
        "train_datagen = ImageDataGenerator(\n",
        "        rescale=1./255,\n",
        "        featurewise_center=True,\n",
        "        featurewise_std_normalization=True,\n",
        "        horizontal_flip=True)"
      ]
    },
    {
      "cell_type": "code",
      "execution_count": 1563,
      "metadata": {
        "id": "gFb9iBcTa5Ee"
      },
      "outputs": [],
      "source": [
        "#Scaling test data\n",
        "test_datagen = ImageDataGenerator(rescale=1./255)"
      ]
    },
    {
      "cell_type": "markdown",
      "metadata": {
        "id": "b8RQ4fphbbLn"
      },
      "source": [
        "**Training Data**"
      ]
    },
    {
      "cell_type": "code",
      "execution_count": 1564,
      "metadata": {
        "colab": {
          "base_uri": "https://localhost:8080/"
        },
        "id": "23XnaPVgbn0S",
        "outputId": "63a02605-c32d-4df1-9301-2f245f8d1022"
      },
      "outputs": [
        {
          "output_type": "stream",
          "name": "stdout",
          "text": [
            "Found 59 images belonging to 2 classes.\n"
          ]
        }
      ],
      "source": [
        "train_set = train_datagen.flow_from_directory('/content/drive/MyDrive/R-Classifier',\n",
        "                                               target_size=(64, 64),\n",
        "                                               batch_size=6,\n",
        "                                               class_mode='binary')"
      ]
    },
    {
      "cell_type": "code",
      "execution_count": 1565,
      "metadata": {
        "colab": {
          "base_uri": "https://localhost:8080/"
        },
        "id": "LBWeO6mRb0TU",
        "outputId": "30c9580f-57ab-4719-9765-a29bc51b7835"
      },
      "outputs": [
        {
          "output_type": "stream",
          "name": "stdout",
          "text": [
            "{'non-resume': 0, 'resume': 1}\n"
          ]
        }
      ],
      "source": [
        "#labelling (resume & non-resume)\n",
        "label_map = (train_set.class_indices)\n",
        "print(label_map)"
      ]
    },
    {
      "cell_type": "markdown",
      "metadata": {
        "id": "Ud8xHFVHUXi7"
      },
      "source": [
        "**Testing** **Dataset**"
      ]
    },
    {
      "cell_type": "code",
      "execution_count": 1566,
      "metadata": {
        "colab": {
          "base_uri": "https://localhost:8080/"
        },
        "id": "aekjdj4ab30E",
        "outputId": "39f8e992-ce72-42da-8e8f-b21e78d73f17"
      },
      "outputs": [
        {
          "output_type": "stream",
          "name": "stdout",
          "text": [
            "Found 59 images belonging to 2 classes.\n"
          ]
        }
      ],
      "source": [
        "## Importng test data\n",
        "test_set = test_datagen.flow_from_directory('/content/drive/MyDrive/R-Classifier',\n",
        "                                            target_size=(64, 64),\n",
        "                                            batch_size=6,\n",
        "                                            class_mode='binary')"
      ]
    },
    {
      "cell_type": "code",
      "execution_count": 1567,
      "metadata": {
        "colab": {
          "base_uri": "https://localhost:8080/"
        },
        "id": "VSq-X7uscBjQ",
        "outputId": "1d6d128f-968e-417a-d806-712248ca97e1"
      },
      "outputs": [
        {
          "output_type": "stream",
          "name": "stderr",
          "text": [
            "<ipython-input-1567-7f79c4f7aeed>:2: UserWarning: `Model.fit_generator` is deprecated and will be removed in a future version. Please use `Model.fit`, which supports generators.\n",
            "  classifier.fit_generator(\n"
          ]
        },
        {
          "output_type": "stream",
          "name": "stdout",
          "text": [
            "Epoch 1/25\n",
            "8/8 [==============================] - 3s 220ms/step - loss: 0.7029 - accuracy: 0.5532 - val_loss: 0.6697 - val_accuracy: 0.7083\n",
            "Epoch 2/25\n",
            "8/8 [==============================] - 2s 222ms/step - loss: 0.6884 - accuracy: 0.5745 - val_loss: 0.6668 - val_accuracy: 0.6250\n",
            "Epoch 3/25\n",
            "8/8 [==============================] - 2s 174ms/step - loss: 0.6818 - accuracy: 0.6170 - val_loss: 0.6747 - val_accuracy: 0.5833\n",
            "Epoch 4/25\n",
            "8/8 [==============================] - 2s 274ms/step - loss: 0.6898 - accuracy: 0.5417 - val_loss: 0.6740 - val_accuracy: 0.6667\n",
            "Epoch 5/25\n",
            "8/8 [==============================] - 3s 398ms/step - loss: 0.6885 - accuracy: 0.5319 - val_loss: 0.6770 - val_accuracy: 0.6250\n",
            "Epoch 6/25\n",
            "8/8 [==============================] - 4s 489ms/step - loss: 0.6842 - accuracy: 0.5532 - val_loss: 0.6528 - val_accuracy: 0.5833\n",
            "Epoch 7/25\n",
            "8/8 [==============================] - 3s 304ms/step - loss: 0.6611 - accuracy: 0.5957 - val_loss: 0.6226 - val_accuracy: 0.6667\n",
            "Epoch 8/25\n",
            "8/8 [==============================] - 3s 451ms/step - loss: 0.6735 - accuracy: 0.6170 - val_loss: 0.8247 - val_accuracy: 0.4167\n",
            "Epoch 9/25\n",
            "8/8 [==============================] - 3s 387ms/step - loss: 0.5670 - accuracy: 0.7234 - val_loss: 0.6488 - val_accuracy: 0.5417\n",
            "Epoch 10/25\n",
            "8/8 [==============================] - 6s 718ms/step - loss: 0.5906 - accuracy: 0.7021 - val_loss: 0.5403 - val_accuracy: 0.8333\n",
            "Epoch 11/25\n",
            "8/8 [==============================] - 3s 446ms/step - loss: 0.5610 - accuracy: 0.7234 - val_loss: 0.5357 - val_accuracy: 0.7500\n",
            "Epoch 12/25\n",
            "8/8 [==============================] - 3s 445ms/step - loss: 0.5401 - accuracy: 0.7021 - val_loss: 0.4698 - val_accuracy: 0.7917\n",
            "Epoch 13/25\n",
            "8/8 [==============================] - 4s 448ms/step - loss: 0.4713 - accuracy: 0.7660 - val_loss: 0.4147 - val_accuracy: 0.8333\n",
            "Epoch 14/25\n",
            "8/8 [==============================] - 2s 196ms/step - loss: 0.4757 - accuracy: 0.7660 - val_loss: 0.4321 - val_accuracy: 0.7083\n",
            "Epoch 15/25\n",
            "8/8 [==============================] - 2s 249ms/step - loss: 0.5455 - accuracy: 0.6596 - val_loss: 0.4708 - val_accuracy: 0.7917\n",
            "Epoch 16/25\n",
            "8/8 [==============================] - 2s 223ms/step - loss: 0.3607 - accuracy: 0.8723 - val_loss: 0.6428 - val_accuracy: 0.7917\n",
            "Epoch 17/25\n",
            "8/8 [==============================] - 2s 304ms/step - loss: 0.4786 - accuracy: 0.8085 - val_loss: 0.3100 - val_accuracy: 0.8750\n",
            "Epoch 18/25\n",
            "8/8 [==============================] - 3s 419ms/step - loss: 0.2622 - accuracy: 0.8958 - val_loss: 0.2105 - val_accuracy: 0.9167\n",
            "Epoch 19/25\n",
            "8/8 [==============================] - 1s 183ms/step - loss: 0.1976 - accuracy: 0.9362 - val_loss: 0.2752 - val_accuracy: 0.8750\n",
            "Epoch 20/25\n",
            "8/8 [==============================] - 2s 236ms/step - loss: 0.1855 - accuracy: 0.9149 - val_loss: 0.3147 - val_accuracy: 0.8750\n",
            "Epoch 21/25\n",
            "8/8 [==============================] - 2s 214ms/step - loss: 0.3122 - accuracy: 0.8298 - val_loss: 0.3036 - val_accuracy: 0.8750\n",
            "Epoch 22/25\n",
            "8/8 [==============================] - 2s 232ms/step - loss: 0.2458 - accuracy: 0.9375 - val_loss: 0.1675 - val_accuracy: 0.9167\n",
            "Epoch 23/25\n",
            "8/8 [==============================] - 2s 200ms/step - loss: 0.3083 - accuracy: 0.8511 - val_loss: 0.2144 - val_accuracy: 0.9167\n",
            "Epoch 24/25\n",
            "8/8 [==============================] - 2s 288ms/step - loss: 0.2505 - accuracy: 0.9167 - val_loss: 0.2087 - val_accuracy: 1.0000\n",
            "Epoch 25/25\n",
            "8/8 [==============================] - 3s 392ms/step - loss: 0.1190 - accuracy: 1.0000 - val_loss: 0.0204 - val_accuracy: 1.0000\n"
          ]
        },
        {
          "output_type": "execute_result",
          "data": {
            "text/plain": [
              "<keras.src.callbacks.History at 0x7959186763e0>"
            ]
          },
          "metadata": {},
          "execution_count": 1567
        }
      ],
      "source": [
        "#fitting model to images\n",
        "classifier.fit_generator(\n",
        "        train_set,\n",
        "        steps_per_epoch=8,\n",
        "        epochs=25,\n",
        "        validation_data=test_set,\n",
        "        validation_steps=4)"
      ]
    },
    {
      "cell_type": "markdown",
      "metadata": {
        "id": "9KYigXO4cIfL"
      },
      "source": [
        "**Evaluation and Testing**"
      ]
    },
    {
      "cell_type": "code",
      "execution_count": 1568,
      "metadata": {
        "id": "hOFWEh89cDNc"
      },
      "outputs": [],
      "source": [
        "# prediction of single new data\n",
        "import numpy as np\n",
        "from keras.preprocessing import image\n",
        "test_image= image.load_img('/content/drive/MyDrive/Testfolder/resumetest.jpg'\n",
        "                           ,target_size =(64,64))\n"
      ]
    },
    {
      "cell_type": "code",
      "execution_count": 1569,
      "metadata": {
        "id": "jd_BGjFJcP6V"
      },
      "outputs": [],
      "source": [
        "# Convert image to array\n",
        "test_image = image.img_to_array(test_image)"
      ]
    },
    {
      "cell_type": "code",
      "execution_count": 1570,
      "metadata": {
        "colab": {
          "base_uri": "https://localhost:8080/"
        },
        "id": "VmiV1s1IcS9S",
        "outputId": "15d72d85-277a-4494-8fb8-f043176dbdd3"
      },
      "outputs": [
        {
          "output_type": "stream",
          "name": "stdout",
          "text": [
            "1/1 [==============================] - 0s 122ms/step\n"
          ]
        }
      ],
      "source": [
        "# For single prediction change the dimension using axis. To remove problem of batch\n",
        "test_image = np.expand_dims(test_image,axis = 0)\n",
        "result = classifier.predict(test_image)"
      ]
    },
    {
      "cell_type": "code",
      "execution_count": 1571,
      "metadata": {
        "id": "LCQY386BcU8h"
      },
      "outputs": [],
      "source": [
        "## Class of resume and non-resume\n",
        "train_set.class_indices\n",
        "if result[0][0] == 1:\n",
        "    prediction = 'resume'\n",
        "else:\n",
        "   prediction = 'noresume'\n"
      ]
    },
    {
      "cell_type": "code",
      "execution_count": 1572,
      "metadata": {
        "colab": {
          "base_uri": "https://localhost:8080/",
          "height": 36
        },
        "id": "d5mIS28ScWwP",
        "outputId": "d40a909b-806c-4c7a-b750-5357c8e2de32"
      },
      "outputs": [
        {
          "output_type": "execute_result",
          "data": {
            "text/plain": [
              "'resume'"
            ],
            "application/vnd.google.colaboratory.intrinsic+json": {
              "type": "string"
            }
          },
          "metadata": {},
          "execution_count": 1572
        }
      ],
      "source": [
        "prediction\n"
      ]
    },
    {
      "cell_type": "markdown",
      "metadata": {
        "id": "hvQjQI2pcYOd"
      },
      "source": [
        "**Confusion Matrix**"
      ]
    },
    {
      "cell_type": "code",
      "execution_count": 1573,
      "metadata": {
        "id": "evLSWb8Lcf9_"
      },
      "outputs": [],
      "source": [
        "import numpy as np\n",
        "from sklearn.metrics import confusion_matrix\n",
        "import seaborn as sns\n",
        "import matplotlib.pyplot as plt"
      ]
    },
    {
      "cell_type": "code",
      "execution_count": 1574,
      "metadata": {
        "colab": {
          "base_uri": "https://localhost:8080/"
        },
        "id": "KQjrmm8ge5Ku",
        "outputId": "9a194d05-81fb-43c7-ee52-d66442f1a01d"
      },
      "outputs": [
        {
          "output_type": "stream",
          "name": "stdout",
          "text": [
            "10/10 [==============================] - 1s 111ms/step\n"
          ]
        }
      ],
      "source": [
        "y_pred = classifier.predict(test_set)\n",
        "# Assuming binary classification\n",
        "y_pred_binary = (y_pred > 0.5).astype(int)"
      ]
    },
    {
      "cell_type": "code",
      "execution_count": 1575,
      "metadata": {
        "id": "m_aeoCLJf9ir"
      },
      "outputs": [],
      "source": [
        "y_true = test_set.classes"
      ]
    },
    {
      "cell_type": "code",
      "execution_count": 1576,
      "metadata": {
        "id": "4b1Rj_eYwK_F"
      },
      "outputs": [],
      "source": [
        "cm = confusion_matrix(y_true,y_pred_binary)"
      ]
    },
    {
      "cell_type": "code",
      "execution_count": 1577,
      "metadata": {
        "colab": {
          "base_uri": "https://localhost:8080/",
          "height": 481
        },
        "id": "8OF7dfM8gN1I",
        "outputId": "761b0a7a-309b-446a-df93-3415b426e5ef"
      },
      "outputs": [
        {
          "output_type": "display_data",
          "data": {
            "text/plain": [
              "<Figure size 640x480 with 2 Axes>"
            ],
            "image/png": "[encoded data removed]"
          },
          "metadata": {}
        }
      ],
      "source": [
        "sns.heatmap(cm,\n",
        "\t\t\tannot=True,\n",
        "\t\t\tfmt='g',\n",
        "\t\t\txticklabels=['Non-Resume','Resume'],\n",
        "\t\t\tyticklabels=['Non-Resume','Resume'])\n",
        "plt.ylabel('Prediction',fontsize=13)\n",
        "plt.xlabel('Actual',fontsize=13)\n",
        "plt.title('Confusion Matrix',fontsize=17)\n",
        "plt.show()\n"
      ]
    },
    {
      "cell_type": "code",
      "execution_count": 1578,
      "metadata": {
        "colab": {
          "base_uri": "https://localhost:8080/"
        },
        "id": "Ti8wh42A74hx",
        "outputId": "25d4f0dd-11b9-4cb5-ac5f-058e016f63ec"
      },
      "outputs": [
        {
          "output_type": "stream",
          "name": "stderr",
          "text": [
            "/usr/local/lib/python3.10/dist-packages/keras/src/engine/training.py:3103: UserWarning: You are saving your model as an HDF5 file via `model.save()`. This file format is considered legacy. We recommend using instead the native Keras format, e.g. `model.save('my_model.keras')`.\n",
            "  saving_api.save_model(\n"
          ]
        }
      ],
      "source": [
        "classifier.save(\"/content/drive/MyDrive/resumeclass/resume_classifier.h5\")"
      ]
    }
  ],
  "metadata": {
    "colab": {
      "provenance": []
    },
    "kernelspec": {
      "display_name": "Python 3",
      "name": "python3"
    },
    "language_info": {
      "name": "python"
    }
  },
  "nbformat": 4,
  "nbformat_minor": 0
}